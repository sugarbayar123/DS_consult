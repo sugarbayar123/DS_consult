{
 "cells": [
  {
   "cell_type": "code",
   "execution_count": null,
   "metadata": {},
   "outputs": [],
   "source": [
    "# ---------------------------------- List of Model\n",
    "def all_model(model_name):\n",
    "     if model_name=='RIDGE': # Ridge regression model\n",
    "        model = Ridge() \n",
    "        param_grid = {'alpha': uniform(0.00001, 1.0)} # alpha hyperparameter of ridge regression\n",
    "     elif model_name=='SVM': # SVM model\n",
    "        model = SVR()\n",
    "        param_grid = {'kernel': ['linear', 'rbf','poly'], # kernel hyperparameter of SVM \n",
    "                      'C': loguniform(0.1, 10), # C hyperparameter of SVM\n",
    "                      'gamma': uniform(0.1, 10), # gamma hyperparameter of SVM\n",
    "                      'degree':randint(1,4)} # degree hyperparameter of SVM\n",
    "     elif model_name=='KNN': # KNN model\n",
    "        model = neighbors.KNeighborsRegressor()\n",
    "        param_grid = {\n",
    "            'n_neighbors': randint(1,20), # number of neighbors hyperparameter of KNN \n",
    "            'p': [1,3] # p hyperparameter of KNN\n",
    "            }\n",
    "     elif model_name=='RF': # Random Forest model\n",
    "        model = RandomForestRegressor()\n",
    "        param_grid = {'n_estimators':randint(20, 200), # number of estimator hyperparameter of RF model\n",
    "                      'max_features': randint(5,30), # max features hyperparameter of RF \n",
    "                      'max_depth':randint(1,6), # max depth hyperparameter of RF\n",
    "                      'min_samples_split':randint(2,30)} # min sample split hyperparameter of RF\n",
    "     elif model_name=='XGBOOST': # XGBoost model\n",
    "        model=xgb.XGBRegressor()\n",
    "        param_grid = {'n_estimators':randint(20, 200), # number of estimator hyperparameter of XGBoost\n",
    "                      'learning_rate':loguniform(0.001,0.5), # learning rate hyperparameter of XGBoost\n",
    "                      'max_depth':randint(8,15), # max depth hyperparameter of XGBoost\n",
    "                      'gamma':uniform(0.001,0.02), # gamma hyperparameter of XGBoost\n",
    "                      }\n",
    "     return model, param_grid"
   ]
  }
 ],
 "metadata": {
  "language_info": {
   "name": "python"
  }
 },
 "nbformat": 4,
 "nbformat_minor": 2
}
