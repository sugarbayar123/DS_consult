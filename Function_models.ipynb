{
 "cells": [
  {
   "cell_type": "code",
   "execution_count": null,
   "metadata": {},
   "outputs": [],
   "source": [
    "# ---------------------------------- List of Model\n",
    "def all_model(model_name):\n",
    "     if model_name=='RIDGE':\n",
    "        model = Ridge()\n",
    "        param_grid = {'alpha': uniform(0.00001, 1.0)} # https://arxiv.org/pdf/2108.11872.pdf\n",
    "     elif model_name=='SVM':\n",
    "        model = SVR()\n",
    "        param_grid = {'kernel': ['linear', 'rbf','poly'],\n",
    "                      'C': loguniform(0.1, 10), #file:///C:/Users/User/Downloads/s13321-015-0088-0.pdf\n",
    "                      'gamma': uniform(0.1, 10), #https://arxiv.org/pdf/2309.06604.pdf\n",
    "                      'degree':randint(1,4)}\n",
    "     elif model_name=='KNN':\n",
    "        model = neighbors.KNeighborsRegressor()\n",
    "        param_grid = {\n",
    "            'n_neighbors': randint(1,20),\n",
    "            'p': [1,3]\n",
    "            }\n",
    "     elif model_name=='RF':\n",
    "        model = RandomForestRegressor()\n",
    "        param_grid = {'n_estimators':randint(20, 200),\n",
    "                      'max_features': randint(5,30),\n",
    "                      'max_depth':randint(1,6),\n",
    "                      'min_samples_split':randint(2,30)}\n",
    "     elif model_name=='XGBOOST':\n",
    "        model=xgb.XGBRegressor()\n",
    "        param_grid = {'n_estimators':randint(20, 200),\n",
    "                      'learning_rate':loguniform(0.001,0.5),\n",
    "                      'max_depth':randint(8,15),\n",
    "                      'gamma':uniform(0.001,0.02),\n",
    "                      }\n",
    "     return model, param_grid"
   ]
  }
 ],
 "metadata": {
  "language_info": {
   "name": "python"
  }
 },
 "nbformat": 4,
 "nbformat_minor": 2
}
